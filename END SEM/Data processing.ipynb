{
 "cells": [
  {
   "cell_type": "code",
   "execution_count": null,
   "metadata": {},
   "outputs": [],
   "source": [
    "!pip install mediapipe"
   ]
  },
  {
   "cell_type": "code",
   "execution_count": null,
   "metadata": {},
   "outputs": [],
   "source": [
    "import os\n",
    "import cv2\n",
    "import mediapipe as mp\n",
    "import csv"
   ]
  },
  {
   "cell_type": "code",
   "execution_count": null,
   "metadata": {},
   "outputs": [],
   "source": [
    "def process_video(video_path, csv_writer, condition_severity, pose, frame_id_start=0):\n",
    "    cap = cv2.VideoCapture(video_path)\n",
    "    frame_id = frame_id_start\n",
    "    while True:\n",
    "        ret, frame = cap.read()\n",
    "        if not ret:\n",
    "            break\n",
    "        rgb_frame = cv2.cvtColor(frame, cv2.COLOR_BGR2RGB)\n",
    "        results = pose.process(rgb_frame)\n",
    "        if results.pose_landmarks is not None:\n",
    "            keypoints = [[landmark.x, landmark.y] for landmark in results.pose_landmarks.landmark]\n",
    "        else:\n",
    "            keypoints = [[0, 0] for _ in range(48)]  # Fill with zeros if no keypoints detected\n",
    "        row = [frame_id] + [coord for point in keypoints for coord in (point[0], point[1])] + [condition_severity]\n",
    "        csv_writer.writerow(row)\n",
    "        frame_id += 1\n",
    "    cap.release()\n",
    "    return frame_id\n"
   ]
  },
  {
   "cell_type": "code",
   "execution_count": null,
   "metadata": {},
   "outputs": [],
   "source": [
    "def process_directory_structure(data_directory):\n",
    "    mp_pose = mp.solutions.pose\n",
    "    pose = mp_pose.Pose(static_image_mode=False, min_detection_confidence=0.5, min_tracking_confidence=0.5)\n",
    "\n",
    "    for root, dirs, files in os.walk(data_directory):\n",
    "        if files:  # Check if there are files in the current directory\n",
    "            metadata_parts = root.split(os.sep)[-1].split('_')\n",
    "            condition = metadata_parts[0]\n",
    "            if len(metadata_parts) > 1:\n",
    "                severity = metadata_parts[1]\n",
    "            else:\n",
    "                severity = 'NA'\n",
    "            condition_severity = f'{condition}_{severity}'\n",
    "            csv_filename = f'{condition}_{severity}_keypoints.csv'\n",
    "            csv_path = os.path.join(root, csv_filename)\n",
    "            with open(csv_path, 'w', newline='') as file:\n",
    "                writer = csv.writer(file)\n",
    "                header = ['frame_id'] + [f'point_{i}x, point_{i}_y' for i in range(33)] + ['target']\n",
    "                writer.writerow(header)\n",
    "                frame_id = 0\n",
    "                for filename in files:\n",
    "                    if filename.endswith('.MOV'):  # Check if the file is a MOV video\n",
    "                        video_path = os.path.join(root, filename)\n",
    "                        frame_id = process_video(video_path, writer, condition_severity, pose, frame_id)  # Process each video\n",
    "\n",
    "    pose.close()"
   ]
  },
  {
   "cell_type": "code",
   "execution_count": null,
   "metadata": {},
   "outputs": [],
   "source": [
    "data_directory = r'Data\\44pfnysy89-1\\KOA-PD-NM'"
   ]
  },
  {
   "cell_type": "code",
   "execution_count": null,
   "metadata": {},
   "outputs": [],
   "source": [
    "process_directory_structure(data_directory)"
   ]
  }
 ],
 "metadata": {
  "kernelspec": {
   "display_name": "Python 3",
   "language": "python",
   "name": "python3"
  },
  "language_info": {
   "codemirror_mode": {
    "name": "ipython",
    "version": 3
   },
   "file_extension": ".py",
   "mimetype": "text/x-python",
   "name": "python",
   "nbconvert_exporter": "python",
   "pygments_lexer": "ipython3",
   "version": "3.8.5"
  }
 },
 "nbformat": 4,
 "nbformat_minor": 2
}
